{
 "cells": [
  {
   "cell_type": "markdown",
   "id": "353d052c-c7ae-4b50-9fe0-8bab7ff92b85",
   "metadata": {},
   "source": [
    "# Includes"
   ]
  },
  {
   "cell_type": "code",
   "execution_count": 1,
   "id": "6a234eeb",
   "metadata": {},
   "outputs": [],
   "source": [
    "#include <math.h>\n",
    "#include <iostream>"
   ]
  },
  {
   "cell_type": "code",
   "execution_count": 2,
   "id": "4e8159fc-7e14-447d-b3d3-68ac65342a25",
   "metadata": {},
   "outputs": [],
   "source": [
    "#pragma cling add_include_path(\"/Users/benjamin/repositories/awi-workspace/Bias-Adjustment-Cpp/include/\") // change for the specific location of the header files\n",
    "#pragma cling add_include_path(\"/Users/benjamin/repositories/awi-workspace/Bias-Adjustment-Cpp/src/\") // change for the specific location of the source files\n",
    "#pragma cling add_library_path(\"/usr/local/lib\")\n",
    "#pragma cling add_include_path(\"/usr/local/include\")"
   ]
  },
  {
   "cell_type": "code",
   "execution_count": 3,
   "id": "2358e686-b641-4455-b459-2bfc299ca03c",
   "metadata": {},
   "outputs": [],
   "source": [
    "#include <netcdf>\n",
    "#pragma cling load(\"netcdf-cxx4\")"
   ]
  },
  {
   "cell_type": "code",
   "execution_count": 4,
   "id": "4a3b8c3c-bd38-4a8e-a337-7a5c44c6d6bd",
   "metadata": {},
   "outputs": [],
   "source": [
    "#pragma cling load(\"CMethods.hxx\")\n",
    "#pragma cling load(\"NcFileHandler.hxx\")\n",
    "#pragma cling load(\"MyMath.hxx\")\n",
    "#pragma cling load(\"Utils.hxx\")\n",
    "#pragma cling load(\"colors.h\")\n",
    "\n",
    "#pragma cling load(\"CMethods.cxx\")\n",
    "#pragma cling load(\"NcFileHandler.cxx\")\n",
    "#pragma cling load(\"MyMath.cxx\")\n",
    "#pragma cling load(\"Utils.cxx\")"
   ]
  },
  {
   "cell_type": "markdown",
   "id": "b787e33f-4ea2-4b32-ac6e-adf78af8416e",
   "metadata": {},
   "source": [
    "____\n",
    "# Setup"
   ]
  },
  {
   "cell_type": "code",
   "execution_count": 5,
   "id": "47d0f43e-6f6a-474f-81c5-5433cb33ed07",
   "metadata": {},
   "outputs": [],
   "source": [
    "std::string variable_name = \"tas\";"
   ]
  },
  {
   "cell_type": "code",
   "execution_count": 6,
   "id": "8a9fbb0f-fda3-4c01-a164-0150cda67b9a",
   "metadata": {},
   "outputs": [],
   "source": [
    "NcFileHandler\n",
    "    ds_obs = NcFileHandler(\"input_data/obs.nc\", variable_name),\n",
    "    ds_simh = NcFileHandler(\"input_data/contr.nc\", variable_name),\n",
    "    ds_simp = NcFileHandler(\"input_data/scen.nc\", variable_name);"
   ]
  },
  {
   "cell_type": "code",
   "execution_count": 7,
   "id": "8527dadf-3928-4cc1-8ac2-b7ca30afb7ad",
   "metadata": {},
   "outputs": [],
   "source": [
    "float* obs_one_loc = new float[ds_obs.n_time]; \n",
    "float* simh_one_loc = new float[ds_simh.n_time];\n",
    "float* simp_one_loc = new float[ds_simp.n_time];\n",
    "\n",
    "float* ls_result = new float[ds_simp.n_time];\n",
    "float* qdm_result = new float[ds_simp.n_time];"
   ]
  },
  {
   "cell_type": "markdown",
   "id": "f51b7b9a-29df-4c32-9b21-c451965f49e0",
   "metadata": {},
   "source": [
    "____\n",
    "# Select grid box"
   ]
  },
  {
   "cell_type": "code",
   "execution_count": 8,
   "id": "f0c07739-20ba-4257-83a6-28292e8dcc31",
   "metadata": {},
   "outputs": [],
   "source": [
    "// select time series\n",
    "ds_obs.fill_timeseries_for_location(obs_one_loc, 0, 0);\n",
    "ds_simh.fill_timeseries_for_location(simh_one_loc, 0, 0);\n",
    "ds_simp.fill_timeseries_for_location(simp_one_loc, 0, 0);"
   ]
  },
  {
   "cell_type": "markdown",
   "id": "faf1d383-ba69-46ba-b50c-e21e00ee887c",
   "metadata": {},
   "source": [
    "# Select methods"
   ]
  },
  {
   "cell_type": "code",
   "execution_count": 9,
   "id": "ccd7bbc7-4c3a-4555-8d96-93b11a4e7339",
   "metadata": {},
   "outputs": [],
   "source": [
    "// select metotds \n",
    "CM_Func_ptr_simple apply_adjustment_ls = CMethods::get_cmethod_simple(\"linear_scaling\");\n",
    "CM_Func_ptr_quantile apply_adjustment_qdm = CMethods::get_cmethod_quantile(\"quantile_delta_mapping\");"
   ]
  },
  {
   "cell_type": "markdown",
   "id": "5f723cf4-4338-4008-9470-53146b7ee3d7",
   "metadata": {},
   "source": [
    "# Apply methods"
   ]
  },
  {
   "cell_type": "code",
   "execution_count": 10,
   "id": "31e5a36d-2648-47d0-af40-3d7fd2c7b136",
   "metadata": {},
   "outputs": [],
   "source": [
    "// apply linear scaling\n",
    "apply_adjustment_ls(\n",
    "    ls_result, \n",
    "    obs_one_loc, \n",
    "    simh_one_loc, \n",
    "    simp_one_loc, \n",
    "    ds_simp.n_time,\n",
    "    \"+\"\n",
    ")"
   ]
  },
  {
   "cell_type": "code",
   "execution_count": 11,
   "id": "56814663-ba7f-4620-84b2-fb9ae5f5000a",
   "metadata": {},
   "outputs": [],
   "source": [
    "// apply quantile delta mapping\n",
    "apply_adjustment_qdm(\n",
    "    qdm_result, \n",
    "    obs_one_loc, \n",
    "    simh_one_loc, \n",
    "    simp_one_loc, \n",
    "    ds_simp.n_time,\n",
    "    \"+\",\n",
    "    100\n",
    ")"
   ]
  },
  {
   "cell_type": "code",
   "execution_count": 12,
   "id": "ad8fe08c-82bc-41ea-be4e-f1159ae168d3",
   "metadata": {},
   "outputs": [],
   "source": [
    "int start = 0, end = 10;"
   ]
  },
  {
   "cell_type": "markdown",
   "id": "ab79fd5d-f775-42c5-bc84-dc39c8b5a603",
   "metadata": {},
   "source": [
    "# Observations"
   ]
  },
  {
   "cell_type": "code",
   "execution_count": 13,
   "id": "135e8dd1-5588-4f12-b3ba-ab90fbe8ff83",
   "metadata": {},
   "outputs": [
    {
     "name": "stdout",
     "output_type": "stream",
     "text": [
      "-24.0942 -24.417 -24.1754 -24.0361 -23.7633 -24.1706 -23.71 -24.5677 -24.654 -23.4294 "
     ]
    }
   ],
   "source": [
    "for(unsigned ts = start; ts < end; ts++) std::cout << obs_one_loc[ts] << \" \";"
   ]
  },
  {
   "cell_type": "markdown",
   "id": "ffbe4177-282e-4ddd-9a41-1762bccfc11d",
   "metadata": {},
   "source": [
    "# Model (control)"
   ]
  },
  {
   "cell_type": "code",
   "execution_count": 14,
   "id": "707cda33-35e9-47b9-890c-92126a6af512",
   "metadata": {},
   "outputs": [
    {
     "name": "stdout",
     "output_type": "stream",
     "text": [
      "-26.0942 -26.417 -26.1754 -26.0361 -25.7633 -26.1706 -25.71 -26.5677 -26.654 -25.4294 "
     ]
    }
   ],
   "source": [
    "for(unsigned ts = start; ts < end; ts++) std::cout << simh_one_loc[ts] << \" \";"
   ]
  },
  {
   "cell_type": "markdown",
   "id": "1ad3e6d6-d007-405c-82ea-f4fefc36c665",
   "metadata": {},
   "source": [
    "# Model (scenario)"
   ]
  },
  {
   "cell_type": "code",
   "execution_count": 15,
   "id": "8bd00cbb-fc9d-4f42-be64-d7dc31c040bb",
   "metadata": {},
   "outputs": [
    {
     "name": "stdout",
     "output_type": "stream",
     "text": [
      "-25.0942 -25.417 -25.1754 -25.0361 -24.7633 -25.1706 -24.71 -25.5677 -25.654 -24.4294 "
     ]
    }
   ],
   "source": [
    "for(unsigned ts = start; ts < end; ts++) std::cout << simp_one_loc[ts] << \" \";"
   ]
  },
  {
   "cell_type": "markdown",
   "id": "94545cbb-8133-4a05-8282-793e6539f5c3",
   "metadata": {},
   "source": [
    "# LS-adjusted\n",
    "Note: this must be applied to monthly data! So this is incomplete."
   ]
  },
  {
   "cell_type": "code",
   "execution_count": 16,
   "id": "60ad733c-af09-4f0d-95f0-cd580845ef0d",
   "metadata": {},
   "outputs": [
    {
     "name": "stdout",
     "output_type": "stream",
     "text": [
      "-23.0942 -23.417 -23.1754 -23.0361 -22.7633 -23.1706 -22.71 -23.5677 -23.654 -22.4294 "
     ]
    }
   ],
   "source": [
    "for(unsigned ts = 0; ts < 10; ts++) std::cout << ls_result[ts] << \" \";"
   ]
  },
  {
   "cell_type": "markdown",
   "id": "ec6bf95e-b842-4ece-b14e-1f12a292cb8c",
   "metadata": {},
   "source": [
    "# QDM-adjusted"
   ]
  },
  {
   "cell_type": "code",
   "execution_count": 17,
   "id": "7803463d-7dd8-4b6e-8ff9-1a21003d9c0e",
   "metadata": {},
   "outputs": [
    {
     "name": "stdout",
     "output_type": "stream",
     "text": [
      "-23.1014 -23.4159 -23.1805 -23.047 -22.7724 -23.1758 -22.716 -23.5665 -23.6526 -22.4402 "
     ]
    }
   ],
   "source": [
    "for(unsigned ts = 0; ts < 10; ts++) std::cout << qdm_result[ts] << \" \";"
   ]
  },
  {
   "cell_type": "code",
   "execution_count": 18,
   "id": "101f92fa-29a6-42fc-86f6-a4614c73e780",
   "metadata": {},
   "outputs": [],
   "source": [
    "// save to file \n",
    "ds_simp.save_to_netcdf(\"qdm_result.nc\", variable_name, qdm_result, ds_simp.n_time)\n",
    "/** Note: \n",
    " *    the last parameter is n_time, so you can save datasets that does not match the NcFileHandlers` (<ds_simp>) dimensions \n",
    " */"
   ]
  }
 ],
 "metadata": {
  "kernelspec": {
   "display_name": "C++11 [conda env:clingenv]",
   "language": "C++11",
   "name": "conda-env-clingenv-xeus-cling-cpp11"
  },
  "language_info": {
   "codemirror_mode": "text/x-c++src",
   "file_extension": ".cpp",
   "mimetype": "text/x-c++src",
   "name": "c++",
   "version": "-std=c++11"
  },
  "vscode": {
   "interpreter": {
    "hash": "fcdf04a44e761d9d414541aa8350215dc9152533f236a04b54c441c84fdfed0e"
   }
  }
 },
 "nbformat": 4,
 "nbformat_minor": 5
}
